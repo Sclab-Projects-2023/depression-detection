{
 "cells": [
  {
   "cell_type": "code",
   "execution_count": null,
   "metadata": {},
   "outputs": [],
   "source": [
    "import os\n",
    "import pandas as pd\n",
    "import numpy as np\n",
    "import torch\n",
    "\n",
    "import tensorflow as tf\n",
    "gpus = tf.config.experimental.list_physical_devices('GPU')\n",
    "if gpus:\n",
    "    try:\n",
    "        for gpu in gpus:\n",
    "            tf.config.experimental.set_memory_growth(gpu, True)\n",
    "    except RuntimeError as e:\n",
    "        print(e)\n",
    "\n",
    "import torchaudio\n",
    "from transformers import RobertaTokenizer, TFRobertaModel\n",
    "from transformers import TFXLMRobertaModel, XLMRobertaTokenizer\n",
    "\n",
    "from tqdm import tqdm"
   ]
  },
  {
   "cell_type": "markdown",
   "metadata": {},
   "source": [
    "### Text data"
   ]
  },
  {
   "cell_type": "code",
   "execution_count": null,
   "metadata": {},
   "outputs": [],
   "source": [
    "#XLSM-Roberta-example\n",
    "roberta_model = TFXLMRobertaModel.from_pretrained(\"xlm-roberta-large\")\n",
    "tokenizer = XLMRobertaTokenizer.from_pretrained(\"xlm-roberta-large\")"
   ]
  },
  {
   "cell_type": "code",
   "execution_count": null,
   "metadata": {},
   "outputs": [],
   "source": [
    "#Roberta-example\n",
    "roberta_model = TFRobertaModel.from_pretrained(\"roberta-large\")\n",
    "tokenizer = RobertaTokenizer.from_pretrained(\"roberta-large\") "
   ]
  },
  {
   "cell_type": "code",
   "execution_count": null,
   "metadata": {
    "scrolled": true
   },
   "outputs": [],
   "source": [
    "data = pd.read_csv('all_data.csv')\n",
    "data"
   ]
  },
  {
   "cell_type": "code",
   "execution_count": null,
   "metadata": {},
   "outputs": [],
   "source": [
    "token_counts = data['negative'].apply(lambda x: len(tokenizer.tokenize(x)))\n",
    "\n",
    "print(\"Minimum token count:\", token_counts.min())\n",
    "print(\"Maximum token count:\", token_counts.max())\n",
    "print(\"Mean token count:\", token_counts.mean())\n",
    "print(\"Median token count:\", token_counts.median())\n",
    "print(\"Standard deviation of token count:\", token_counts.std())"
   ]
  },
  {
   "cell_type": "code",
   "execution_count": null,
   "metadata": {},
   "outputs": [],
   "source": [
    "token_counts = data['neutral'].apply(lambda x: len(tokenizer.tokenize(x)))\n",
    "\n",
    "print(\"Minimum token count:\", token_counts.min())\n",
    "print(\"Maximum token count:\", token_counts.max())\n",
    "print(\"Mean token count:\", token_counts.mean())\n",
    "print(\"Median token count:\", token_counts.median())\n",
    "print(\"Standard deviation of token count:\", token_counts.std())"
   ]
  },
  {
   "cell_type": "code",
   "execution_count": null,
   "metadata": {},
   "outputs": [],
   "source": [
    "token_counts = data['positive'].apply(lambda x: len(tokenizer.tokenize(x)))\n",
    "\n",
    "print(\"Minimum token count:\", token_counts.min())\n",
    "print(\"Maximum token count:\", token_counts.max())\n",
    "print(\"Mean token count:\", token_counts.mean())\n",
    "print(\"Median token count:\", token_counts.median())\n",
    "print(\"Standard deviation of token count:\", token_counts.std())"
   ]
  },
  {
   "cell_type": "code",
   "execution_count": null,
   "metadata": {},
   "outputs": [],
   "source": [
    "def neg_extract_text_features(texts):\n",
    "    input_ids = tokenizer(texts, padding=True, truncation=True, max_length=neg_max_length, return_tensors=\"tf\")[\"input_ids\"]\n",
    "    return input_ids\n",
    "\n",
    "def nue_extract_text_features(texts):\n",
    "    input_ids = tokenizer(texts, padding=True, truncation=True, max_length=neu_max_length, return_tensors=\"tf\")[\"input_ids\"]\n",
    "    return input_ids\n",
    "\n",
    "def pos_extract_text_features(texts):\n",
    "    input_ids = tokenizer(texts, padding=True, truncation=True, max_length=pos_max_length, return_tensors=\"tf\")[\"input_ids\"]\n",
    "    return input_ids\n",
    "\n",
    "def load_data(csv_file):\n",
    "    df = pd.read_csv(csv_file)\n",
    "    neg_txt = [str(item) for item in df['negative']]\n",
    "    neu_txt = [str(item) for item in df['neutral']]\n",
    "    pos_txt = [str(item) for item in df['positive']]\n",
    "    \n",
    "    neg_features = neg_extract_text_features(neg_txt)\n",
    "    neu_features = nue_extract_text_features(neu_txt)\n",
    "    pos_features = pos_extract_text_features(pos_txt)\n",
    "    \n",
    "    features = np.concatenate([neg_features, neu_features, pos_features], axis=1)\n",
    "    labels = df['labels'].values\n",
    "    \n",
    "    return features, labels\n",
    "\n",
    "train_text_features, train_labels = load_data('train_data.csv')\n",
    "test_text_features, test_labels = load_data('test_data.csv')"
   ]
  },
  {
   "cell_type": "markdown",
   "metadata": {},
   "source": [
    "### Audio data"
   ]
  },
  {
   "cell_type": "code",
   "execution_count": null,
   "metadata": {},
   "outputs": [],
   "source": [
    "import torchaudio.transforms as T\n",
    "\n",
    "melspectrogram = T.MelSpectrogram(sample_rate=16000, n_fft=400, hop_length=160, n_mels=23)\n",
    "resampler = T.Resample(orig_freq=48000, new_freq=16000)\n",
    "\n",
    "def extract_features(file_paths, max_len=None):\n",
    "    features = []\n",
    "   \n",
    "    for file_path in tqdm(file_paths, desc=\"Extracting features\"):\n",
    "        speech,_ = torchaudio.load(file_path)\n",
    "        speech = resampler(speech)\n",
    "        \n",
    "        if speech.shape[0] == 2:\n",
    "            speech = speech.mean(dim=0, keepdim=True)\n",
    "            \n",
    "        speech = speech.squeeze().numpy()\n",
    "        \n",
    "        spectrogram = melspectrogram(torch.from_numpy(speech))\n",
    "        spectrogram = spectrogram.numpy()\n",
    "        \n",
    "        if max_len is not None:\n",
    "            if spectrogram.shape[1] < max_len:\n",
    "                padding = np.zeros((spectrogram.shape[0], max_len - spectrogram.shape[1]))\n",
    "                spectrogram = np.concatenate((spectrogram, padding), axis=1)\n",
    "                \n",
    "            elif spectrogram.shape[1] > max_len:\n",
    "                spectrogram = spectrogram[:, :max_len]\n",
    "                \n",
    "        features.append(spectrogram.squeeze())\n",
    "        \n",
    "    return features"
   ]
  },
  {
   "cell_type": "code",
   "execution_count": null,
   "metadata": {},
   "outputs": [],
   "source": [
    "def wav_load_data(csv_file):\n",
    "    df = pd.read_csv(csv_file)\n",
    "    neg_paths, neu_paths, pos_paths = [], [], []\n",
    "    \n",
    "    for _, row in df.iterrows():\n",
    "        neg_paths.append(os.path.join(row['negative_Wav']).replace('\\\\','/'))\n",
    "        neu_paths.append(os.path.join(row['neutral_Wav']).replace('\\\\','/'))\n",
    "        pos_paths.append(os.path.join(row['positive_Wav']).replace('\\\\','/'))\n",
    "        \n",
    "    return neg_paths, neu_paths, pos_paths"
   ]
  },
  {
   "cell_type": "code",
   "execution_count": null,
   "metadata": {},
   "outputs": [],
   "source": [
    "neg_train_paths, neu_train_paths, pos_train_paths = wav_load_data('train_data.csv')\n",
    "neg_test_paths, neu_test_paths, pos_test_paths = wav_load_data('test_data.csv')"
   ]
  },
  {
   "cell_type": "code",
   "execution_count": null,
   "metadata": {},
   "outputs": [],
   "source": [
    "def pad_sequences(sequences, max_len=None, padding_value=0.0):\n",
    "    if max_len is None:\n",
    "        max_len = max(seq.shape[1] for seq in sequences)\n",
    "        \n",
    "    padded_sequences = []\n",
    "    for seq in sequences:\n",
    "        if seq.shape[1] < max_len:\n",
    "            padding = np.full((seq.shape[0], max_len - seq.shape[1]), padding_value)\n",
    "            seq_padded = np.concatenate((seq, padding), axis=1)\n",
    "            \n",
    "        else:\n",
    "            seq_padded = seq[:, :max_len]\n",
    "        padded_sequences.append(seq_padded)\n",
    "        \n",
    "    return np.array(padded_sequences)"
   ]
  },
  {
   "cell_type": "code",
   "execution_count": null,
   "metadata": {},
   "outputs": [],
   "source": [
    "all_file_paths = neg_train_paths + neu_train_paths + pos_train_paths + neg_test_paths + neu_test_paths + pos_test_paths\n",
    "all_features = extract_features(all_file_paths)"
   ]
  },
  {
   "cell_type": "code",
   "execution_count": null,
   "metadata": {},
   "outputs": [],
   "source": [
    "median_len = int(np.median([feat.shape[1] for feat in all_features]))\n",
    "median_len"
   ]
  },
  {
   "cell_type": "code",
   "execution_count": null,
   "metadata": {},
   "outputs": [],
   "source": [
    "train_neg_features = pad_sequences(extract_features(neg_train_paths, median_len))\n",
    "train_neu_features = pad_sequences(extract_features(neu_train_paths, median_len))\n",
    "train_pos_features = pad_sequences(extract_features(pos_train_paths, median_len))"
   ]
  },
  {
   "cell_type": "code",
   "execution_count": null,
   "metadata": {},
   "outputs": [],
   "source": [
    "train_audio_features = np.concatenate([train_neg_features, train_neu_features, train_pos_features], axis=-1)"
   ]
  },
  {
   "cell_type": "code",
   "execution_count": null,
   "metadata": {},
   "outputs": [],
   "source": [
    "test_neg_features = pad_sequences(extract_features(neg_test_paths, median_len))\n",
    "test_neu_features = pad_sequences(extract_features(neu_test_paths, median_len))\n",
    "test_pos_features = pad_sequences(extract_features(pos_test_paths, median_len))"
   ]
  },
  {
   "cell_type": "code",
   "execution_count": null,
   "metadata": {},
   "outputs": [],
   "source": [
    "test_audio_features = np.concatenate([test_neg_features, test_neu_features, test_pos_features], axis=-1)"
   ]
  }
 ],
 "metadata": {
  "kernelspec": {
   "display_name": "Python 3 (ipykernel)",
   "language": "python",
   "name": "python3"
  },
  "language_info": {
   "codemirror_mode": {
    "name": "ipython",
    "version": 3
   },
   "file_extension": ".py",
   "mimetype": "text/x-python",
   "name": "python",
   "nbconvert_exporter": "python",
   "pygments_lexer": "ipython3",
   "version": "3.9.15"
  }
 },
 "nbformat": 4,
 "nbformat_minor": 4
}
