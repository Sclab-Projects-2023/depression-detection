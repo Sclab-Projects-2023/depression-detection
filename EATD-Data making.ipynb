{
 "cells": [
  {
   "cell_type": "markdown",
   "id": "e456799a-fccc-47da-9a61-6536529cdd32",
   "metadata": {},
   "source": [
    "### Path\n",
    "\n",
    "e.g. './EATD-Corpus'"
   ]
  },
  {
   "cell_type": "code",
   "execution_count": 2,
   "id": "627fa8c3",
   "metadata": {},
   "outputs": [],
   "source": [
    "import os\n",
    "import pandas as pd\n",
    "import re\n",
    "import numpy as np\n",
    "from tqdm import tqdm"
   ]
  },
  {
   "cell_type": "code",
   "execution_count": 3,
   "id": "fd7e9ec6",
   "metadata": {},
   "outputs": [],
   "source": [
    "# Function to extract the numeric part\n",
    "def extract_number(folder_name):\n",
    "    match = re.search(r'\\d+', folder_name)\n",
    "    if match:\n",
    "        return int(match.group())\n",
    "    return 0\n",
    "\n",
    "# Retrieve the list of folders and sort them based on their numeric parts\n",
    "folders = os.listdir('raw-data')\n",
    "sorted_folders = sorted(folders, key=extract_number)"
   ]
  },
  {
   "cell_type": "code",
   "execution_count": 4,
   "id": "e372d6b2",
   "metadata": {},
   "outputs": [
    {
     "name": "stderr",
     "output_type": "stream",
     "text": [
      "Processing folders: 100%|████████████████████████████████████████████████████████████| 162/162 [10:29<00:00,  3.89s/it]\n"
     ]
    }
   ],
   "source": [
    "# Initialize an empty DataFrame\n",
    "df = pd.DataFrame(columns=['folder', 'negative', 'neutral', 'positive', 'new_label'])\n",
    "\n",
    "# Traverse through all folders in the 'raw-data' directory with tqdm progress bar\n",
    "for folder in tqdm(sorted_folders, desc=\"Processing folders\"):\n",
    "    folder_path = os.path.join('raw-data', folder)\n",
    "    \n",
    "    # Process only if it is a folder\n",
    "    if os.path.isdir(folder_path):\n",
    "        \n",
    "        # Dictionary to store the content of each text file\n",
    "        data = {'folder': folder}\n",
    "        \n",
    "        # Read required text files and store their content in the dictionary\n",
    "        for txt_file in ['negative.txt', 'neutral.txt', 'positive.txt', 'new_label.txt']:\n",
    "            txt_path = os.path.join(folder_path, txt_file)\n",
    "\n",
    "            if os.path.exists(txt_path):\n",
    "                with open(txt_path, 'r', encoding='utf-8') as f:\n",
    "                    content = f.read().strip()\n",
    "                data[txt_file[:-4].lower()] = content  # Remove the file extension and save the name in lowercase\n",
    "            else:\n",
    "                data[txt_file[:-4].lower()] = None  # Set to None if the file does not exist\n",
    "                \n",
    "        # Collect paths to wav files\n",
    "        for wav_file in ['negative.wav', 'neutral.wav', 'positive.wav']:\n",
    "            wav_path = os.path.join(folder_path, wav_file)\n",
    "            if os.path.exists(wav_path):\n",
    "                data[wav_file[:-4] + '_Wav'] = os.path.abspath(wav_path)\n",
    "            else:\n",
    "                data[wav_file[:-4] + '_Wav'] = None\n",
    "\n",
    "        # Convert the dictionary to a DataFrame and concatenate it with the existing DataFrame\n",
    "        df = pd.concat([df, pd.DataFrame([data])], ignore_index=True)"
   ]
  },
  {
   "cell_type": "code",
   "execution_count": 5,
   "id": "3552f68e",
   "metadata": {},
   "outputs": [
    {
     "data": {
      "text/plain": [
       "Index(['folder', 'negative', 'neutral', 'positive', 'new_label',\n",
       "       'negative_Wav', 'neutral_Wav', 'positive_Wav'],\n",
       "      dtype='object')"
      ]
     },
     "execution_count": 5,
     "metadata": {},
     "output_type": "execute_result"
    }
   ],
   "source": [
    "df.columns"
   ]
  },
  {
   "cell_type": "code",
   "execution_count": 6,
   "id": "41c9aad0",
   "metadata": {},
   "outputs": [],
   "source": [
    "df['new_label'] = df['new_label'].astype(float)"
   ]
  },
  {
   "cell_type": "code",
   "execution_count": 7,
   "id": "0eba3f38",
   "metadata": {},
   "outputs": [
    {
     "name": "stdout",
     "output_type": "stream",
     "text": [
      "<class 'pandas.core.frame.DataFrame'>\n",
      "RangeIndex: 162 entries, 0 to 161\n",
      "Data columns (total 8 columns):\n",
      " #   Column        Non-Null Count  Dtype  \n",
      "---  ------        --------------  -----  \n",
      " 0   folder        162 non-null    object \n",
      " 1   negative      162 non-null    object \n",
      " 2   neutral       162 non-null    object \n",
      " 3   positive      162 non-null    object \n",
      " 4   new_label     162 non-null    float64\n",
      " 5   negative_Wav  162 non-null    object \n",
      " 6   neutral_Wav   162 non-null    object \n",
      " 7   positive_Wav  162 non-null    object \n",
      "dtypes: float64(1), object(7)\n",
      "memory usage: 10.3+ KB\n"
     ]
    }
   ],
   "source": [
    "df.info()"
   ]
  },
  {
   "cell_type": "code",
   "execution_count": 8,
   "id": "a8b1683e",
   "metadata": {
    "scrolled": true
   },
   "outputs": [],
   "source": [
    "df['labels'] = np.where(df['new_label'] >= 53.0, 1, 0)"
   ]
  },
  {
   "cell_type": "code",
   "execution_count": 9,
   "id": "e7de2725",
   "metadata": {},
   "outputs": [
    {
     "data": {
      "text/plain": [
       "labels\n",
       "0    132\n",
       "1     30\n",
       "Name: count, dtype: int64"
      ]
     },
     "execution_count": 9,
     "metadata": {},
     "output_type": "execute_result"
    }
   ],
   "source": [
    "df['labels'].value_counts()"
   ]
  },
  {
   "cell_type": "code",
   "execution_count": null,
   "id": "b2cd974c",
   "metadata": {},
   "outputs": [],
   "source": [
    "df.to_csv('all_data.csv', index=False)"
   ]
  }
 ],
 "metadata": {
  "kernelspec": {
   "display_name": "Python 3 (ipykernel)",
   "language": "python",
   "name": "python3"
  },
  "language_info": {
   "codemirror_mode": {
    "name": "ipython",
    "version": 3
   },
   "file_extension": ".py",
   "mimetype": "text/x-python",
   "name": "python",
   "nbconvert_exporter": "python",
   "pygments_lexer": "ipython3",
   "version": "3.12.7"
  }
 },
 "nbformat": 4,
 "nbformat_minor": 5
}
